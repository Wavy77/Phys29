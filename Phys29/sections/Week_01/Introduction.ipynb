{
 "cells": [
  {
   "cell_type": "markdown",
   "metadata": {
    "button": false,
    "new_sheet": false,
    "run_control": {
     "read_only": false
    }
   },
   "source": [
    "# Getting Started with Python \n",
    "\n",
    "There are multiple things that you need to get familiar with in this course. Getting used to scientific programming can be a daunting task, especially if you don't have a lot (or any) experience with it. The main objective of this notebook is to introduce you briefly to some concepts that are important to get you setup and ready to start your journey as a scientific programming. There are a few core things that we'll talk about:\n",
    "\n",
    "- Accesing the course materials\n",
    "- Jupyter Notebooks\n",
    "- Setting up a Python environment"
   ]
  },
  {
   "cell_type": "markdown",
   "metadata": {
    "collapsed": false,
    "jupyter": {
     "outputs_hidden": false
    }
   },
   "source": [
    "## Section 1: Accessing the course's materials\n",
    "\n",
    "> **Main objective**: Learn how to obtain a copy of the course materials in your own computer, and get introduced to the notion of version control."
   ]
  },
  {
   "cell_type": "markdown",
   "metadata": {},
   "source": [
    "The materials for this course will be distributed via a *GitHub software repository* at [Phys29](https://github.com/enigma-igm/Phys29/tree/main). Note that this repository will be constantly  updated over the course of the quarter, so you should always make sure you have the most up to date material (see below).  Here is what the *\"home page\"* of the repository looks like:\n",
    "\n",
    "<img src=\"figures/github_page.png\" alt=\"Phys29 GitHub.\" width=\"1200\">\n",
    "\n",
    "\n",
    "This shows you the very top of the repository. Even though it might sound complicated, a repository is basically just a folder where you store other folders and a collection of files (just like in your own computer). Thus, as the quarter progresses, you are going to notice how new folders and files get added to this repository. Once a new file is added to the repository, you'll be able to download it to your own computer. You'll see during the first week's section how to do this!"
   ]
  },
  {
   "cell_type": "markdown",
   "metadata": {
    "collapsed": false,
    "jupyter": {
     "outputs_hidden": false
    }
   },
   "source": [
    "### Version Control (Optional)\n"
   ]
  },
  {
   "cell_type": "markdown",
   "metadata": {},
   "source": [
    "We have decided to add this subsection to introduce you to the important concept of version control. This concept is highly important and valuable for anyone doing scientific programming. However, it is outside of the scope of this course, and you won't be using it. Since it is not the top priority of this lab, you are free to continue with the next section and come back here if you want to learn a little more about version control."
   ]
  },
  {
   "cell_type": "markdown",
   "metadata": {},
   "source": [
    "#### What is Version Control?"
   ]
  },
  {
   "cell_type": "markdown",
   "metadata": {},
   "source": [
    "Version control helps developers track and manage changes to a software project’s code. It offers an organized method for multiple developers to collaborate on projects by keeping a record of modifications, additions, and deletions to files over time. As a software project grows, version control becomes essential.  \n",
    "\n",
    "For instance, consider a real world example that Prof. Hennawi has used in my own research. He has worked on developing an automated Python based software package called [PypeIt](https://github.com/pypeit/PypeIt \"PypeIt\"), that can be used to reduce and analyze astronomical data. PypeIt is an open source project that is developed by a team of around 10 astronomers and software developers. \n",
    "\n",
    "If a core developer wanted to work on one specific part of the PypeIt codebase, it wouldn’t be safe or efficient to have them directly edit the “official” stable version of source code that is used by hundreds of astronomers. Since, if they were to introduce a mistake or \"bug\" into the code, they would break the code used by hundreds of astronomers. \n",
    "\n",
    "Instead, version control enables a developer or team of developers to safely modify code via operations called branching and merging. This allows for the an easy and controlled way of developing complex software, and a nice way to allow for multiple people to collaborate on this type of projects. Additionally, and as its name suggests, version control allows you to revert back to a previous iteration of the code. There are plenty of resources on the internet where you can easily learn more about this. But, for now, how do you actually do version control? That is where git (and GitHub) comes in."
   ]
  },
  {
   "cell_type": "markdown",
   "metadata": {},
   "source": [
    "#### What is Git?"
   ]
  },
  {
   "cell_type": "markdown",
   "metadata": {},
   "source": [
    "Git is a specific open-source version control system. Specifically, Git is distributed version control system, which means that the entire codebase and history is available on every developer’s computer, which allows for easy branching and merging. According to a StackOverflow developer survey, over 87% of software developers use Git."
   ]
  },
  {
   "cell_type": "markdown",
   "metadata": {},
   "source": [
    "#### What is GitHub?"
   ]
  },
  {
   "cell_type": "markdown",
   "metadata": {},
   "source": [
    "[GitHub](https:http://github.com, \"GitHuB\") is a for-profit company that offers a web-based Git repository hosting service. Essentially, it makes it a lot easier for individuals and teams to use Git for version control and collaboration. GitHub’s interface is user-friendly enough such that even novice coders can take advantage of Git. Without GitHub, using Git generally requires a bit more technical savvy and use of the command line. Additionally, anyone can sign up and host a public code repository for free, which makes GitHub especially popular with open-source projects. Once again, the course's materials will be hosted in a GitHub repository. This means that you could also access them by using all the available tools, typically through the terminal. We won't be teaching this, as it can be a little complicated for people unfamiliar with programming, but feel free to try it out on your own!"
   ]
  },
  {
   "cell_type": "markdown",
   "metadata": {},
   "source": [
    "## Section 2: Jupyter Notebooks\n",
    "\n",
    "> **Main objective**: Learn what Jupyter notebooks are, and the basics on how to use them."
   ]
  },
  {
   "cell_type": "markdown",
   "metadata": {},
   "source": [
    "### What is a Jupyter Notebook?"
   ]
  },
  {
   "cell_type": "markdown",
   "metadata": {},
   "source": [
    "As you have seen (or will see) in lecture, writing code is usually done in special documents that have an extension corresponding to the programming language that you are using. These type of files are typically known as *\"scripts\"*. For a lot of cases, using scripts is the best way to build your code. This is especially true when you have computationally complex tasks that will take a long time to execute. In other ocassions, however, it is nice to have a more interactive way of executing your code. Doing some preliminary analysis on a given dataset, developing preliminary computational models, or even just learning something new are examples of things that benefit from having an interactive approach for programming. This is exactly what Jupyter notebooks let you do.\n",
    "\n",
    "As you have seen in lecture, all the course's lectures, homeworks, and sections will be given to you as Jupyter notebooks. Each Jupyter notebook is made up of *\"cells\"*, and each cell could contain code or plain text (this last one is text in the markdown format). If you want to learn a bit more about Jupyter notebooks and how to use them, you should review [this notebook](https://github.com/enigma-igm/Phys29/blob/main/Phys29/lectures/Week1/03_jupyter_notebooks.ipynb) from the first lecture. If you want to understand more about the different ways in which you can open, edit, and execute a Jupyter notebook, you should check out [this other notebook](https://github.com/enigma-igm/Phys29/blob/main/Phys29/lectures/Week1/02_running_python.ipynb) also from the first lecture.\n",
    "\n",
    "**IMPORTANT NOTE:** Before you can use Jupyter notebooks in your own computer, you need to install a few things. That is what the next section is about!"
   ]
  },
  {
   "cell_type": "markdown",
   "metadata": {},
   "source": [
    "## Section 3: Installing what you need\n",
    "\n",
    "> **Main objective**: Learn the steps you need to take to install and create a working Python environment, and a way to open, edit, and execute Jupyter notebooks."
   ]
  },
  {
   "cell_type": "markdown",
   "metadata": {},
   "source": [
    "### Installing Conda (or Miniconda)"
   ]
  },
  {
   "cell_type": "markdown",
   "metadata": {},
   "source": [
    "Conda is a cross-platform package manager that can install packages for multiple languages, including Python. It was developed by Anaconda, Inc., and is included with the Anaconda distribution of Python which we will install below. Conda is very useful for providing the Python distribution that we will use, and for managing environments (which are isolated spaces where packages can be installed without interfering with each other). **Note:** It is not recommended to use conda to install python pacakges. Rather, it is better to exclusively use conda to create python environments. We will see below how to easily install packages into our environment. Having two options (Conda and Miniconda) might seem a little confusing at first, but here are the differences between them: \n",
    "\n",
    "* **Anaconda** is a complete distribution framework that includes the Python interpreter, package manager as well as the commonly used packages in scientific computing. \n",
    "* **Miniconda** is a light version of Anaconda that does not include the common packages, therefore, you need to install all the different packages by yourself. But it does have the Python interpreter and package manager. "
   ]
  },
  {
   "cell_type": "markdown",
   "metadata": {},
   "source": [
    "#### Steps for installing Conda (or Miniconda) on your computer"
   ]
  },
  {
   "cell_type": "markdown",
   "metadata": {},
   "source": [
    "Depending on the *operating systems* (OS) you are using (which typically is Windows, Mac OS X, or Linux), you need to download a specific installer for your machine. You can find the installer that you need [here](https://www.anaconda.com/download/success#miniconda). **PLEASE** pay attention to what operating system you are working with, your computer's specifications (for example, if you are using an Apple computer, check if you are using and Intel or an Apple processor), and whether you want to use Conda or Miniconda!\n",
    "\n",
    "For the rest of this notebook, we will focus on installing Miniconda on a computer with the Mac OS X operating system as an example to show you the install processes. For windows users, please skip the rest of this section and read the other notebook in the section folder for some detailed instructions."
   ]
  },
  {
   "cell_type": "markdown",
   "metadata": {},
   "source": [
    "**Step 1: Download the Miniconda installer from the link provided above** \n",
    "\n",
    "Here you can choose a different installer based on your OS. We choose the Mac OS X distribution consistent with our operating system. We also make sure to download the **Graphical Installer**, instead of the Command Line Installer, since it will give us a nice graphical user interface that makes it easier to go through the installation process.\n",
    "\n",
    "\n",
    "<img src=\"figures/miniconda.png\" alt=\"The Miniconda download page, choose the installer based on your Operating System.\" width=\"1200\">"
   ]
  },
  {
   "cell_type": "markdown",
   "metadata": {},
   "source": [
    "**Step 2: Execute the MacOS graphical package installer:**\n",
    "\n",
    "After you opening the installer you downloaded, you should simply follow the guide and you will successfully install Miniconda.\n",
    "\n",
    "\n",
    "<img src=\"figures/graphical_installer.png\" alt=\"Screen shot of running the graphical package installer.\" width=\"1200\">\n",
    "\n",
    "One thing to note is that you can change the installation location by giving it an alternative location on your machine, but the default is your home directory. We recommend simply using the default.  \n",
    "\n",
    "\n",
    "<img src=\"figures/finder.png\" alt=\"Screen shot of the miniconda directory in the Mac Finder.\" width=\"1200\">\n",
    "\n",
    "\n",
    "After installation, you can check the installed packages by typing the following commands:\n",
    "\n",
    "\n",
    "<img src=\"figures/check_install.png\" alt=\"Quick check.\" width=\"1200\">"
   ]
  },
  {
   "cell_type": "markdown",
   "metadata": {},
   "source": [
    "**Step 3: Create and activate a clean conda environment for this course**\n",
    "\n",
    "After you install conda you will have a single default environment called \"base\". It is typically considered bad practice to install any python packages in this environment. Instead, you should create a clean environment for this course, which you can call \"Phys29\". This is done in the terminal, and by using the following command (notice we are specifying the python version to be 3.11):\n",
    "\n",
    "```conda create -n Phys29 python=3.11```\n",
    "\n",
    "This will create a new environment called \"Phys29\". To activate this environment, type:\n",
    "\n",
    "```conda activate Phys29```\n",
    "\n",
    "<img src=\"figures/conda_env.png\" alt=\"Create and activate the Phys29 environment.\" width=\"1200\">"
   ]
  },
  {
   "cell_type": "markdown",
   "metadata": {},
   "source": [
    "**Step 4: Install the basic packages that will be used in this course**\n",
    "\n",
    "Let us first install some packages for this course - `ipython`, `numpy`, `scipy`, `matplotlib` and `jupyter notebook`. Note that these packages will specifically be installed only in the environment that we just created. So that in order to use them we will always need to activate the ```Phys29``` environment first, each time we launch Terminal.app,  via ```conda activate Phys29``` (as we saw above), which switches us form the ```base``` environment into that for this course. \n",
    "\n",
    "The easiest and best way to install python packages is to use Pip. Pip is a package manager for Python. It allows you to install and manage additional libraries that are not part of the Python standard library. Pip is the default package manager for Python and is included by default with most Python installations inlcuding the Miniconda one we just installed.  For example, you could type\n",
    "\n",
    "```pip install numpy```\n",
    "\n",
    "To install the numpy package. Additionally, you can also install multiple packages by listing them one after the other, like this:\n",
    "\n",
    "```pip install ipython numpy scipy matplotlib jupyter notebook``` \n",
    "\n",
    "Lastly, you could instead use the setup script provided with the repository at  ```Phys29/setup.py```. To install the packages, you'd first need to download that file from the GitHub repository. Then you'd need to navigate (in the terminal) to the repository where it was downloaded and type:\n",
    "\n",
    "```pip install -e .```\n",
    "\n",
    "<img src=\"figures/pip_install.png\" alt=\"Install the packages using the setup.py script.\" width=\"1200\">\n",
    "\n",
    "This is what is known as an editable install, which allows you to install your project without copying any files. Instead, the files in the development directory are added to Python’s import path. This approach is well suited for development and is also known as a “development installation”.\n",
    "\n",
    "The ```-e``` flag tells pip to install the packages in \"editable\" mode.  Editable installs allow you to install a project without copying any files. Instead, the files in the development directory are added to Python’s import path. This approach is well suited for development and is also known as a “development installation”. If changes are made to the source code of the packages, these changes will be reflected in the installed version without having to reinstall. Since the materials for this class will be constantluy udpated over the course of the quarter, an editable stall is obvious choice. If you want to know what the pip install command is doing, you can open the ```Phys29/setup.py``` file in a text editor and see that it is installing the packages listed in the ```install_requires``` variable."
   ]
  },
  {
   "cell_type": "markdown",
   "metadata": {},
   "source": [
    "#### AN IMPORTANT NOTE ABOUT OTHER WAYS OF ACCESSING GITHUB\n",
    "Using Git and GitHub is usually done through a terminal. "
   ]
  },
  {
   "cell_type": "markdown",
   "metadata": {
    "button": false,
    "new_sheet": false,
    "run_control": {
     "read_only": false
    }
   },
   "source": [
    "**Step 4: Install the basic packages that will be used in this course**\n",
    "\n",
    "Let us first install some packages for this course - `ipython`, `numpy`, `scipy`, `matplotlib` and `jupyter notebook`. Note that these packages will specifically be installed only in the environment that we just created. So that in order to use them we will always need to activate the ```Phys29``` environment first, each time we launch Terminal.app,  via ```conda activate Phys29```, which switches us form the ```base``` environment into that for this course. We could install all these packagages via \n",
    "\n",
    "```pip install ipython numpy scipy matplotlib jupyter notebook``` \n",
    "\n",
    "But instead we will use the setup script provided with the repository at  ```Phys29/setup.py```. To install the packages, we navigate into the ```Phys29``` directory via ```cd Phys29``` and type:\n",
    "\n",
    "```pip install -e .```\n",
    "\n",
    "<img src=\"figures/pip_install.png\" alt=\"Install the packages using the setup.py script.\" width=\"1200\">\n",
    "\n",
    "Editable installs allow you to install your project without copying any files. Instead, the files in the development directory are added to Python’s import path. This approach is well suited for development and is also known as a “development installation”.\n",
    "\n",
    "The ```-e``` flag tells pip to install the packages in \"editable\" mode.  Editable installs allow you to install a project without copying any files. Instead, the files in the development directory are added to Python’s import path. This approach is well suited for development and is also known as a “development installation”. If changes are made to the source code of the packages, these changes will be reflected in the installed version without having to reinstall. Since the materials for this class will be constantluy udpated over the course of the quarter, an editable stall is obvious choice. If you want to know what the pip install command is doing, you can open the ```Phys29/setup.py``` file in a text editor and see that it is installing the packages listed in the ```install_requires``` variable."
   ]
  },
  {
   "cell_type": "code",
   "execution_count": null,
   "metadata": {},
   "outputs": [],
   "source": []
  }
 ],
 "metadata": {
  "kernelspec": {
   "display_name": "Python 3 (ipykernel)",
   "language": "python",
   "name": "python3"
  },
  "language_info": {
   "codemirror_mode": {
    "name": "ipython",
    "version": 3
   },
   "file_extension": ".py",
   "mimetype": "text/x-python",
   "name": "python",
   "nbconvert_exporter": "python",
   "pygments_lexer": "ipython3",
   "version": "3.9.21"
  }
 },
 "nbformat": 4,
 "nbformat_minor": 4
}
