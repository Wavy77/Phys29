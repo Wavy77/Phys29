{
 "cells": [
  {
   "cell_type": "markdown",
   "metadata": {},
   "source": [
    "# Using the Jupyter notebook"
   ]
  },
  {
   "cell_type": "markdown",
   "metadata": {},
   "source": [
    "The Jupyter *notebook* is a relatively new feature that has been implemented with Python, and allows you to write notebooks similar to e.g. Mathematica. As we discussed, it runs within your Web-Browser either locally via e.g. jupyter lab and your local python installation, or in a IDE like VSCode, or remotely via Google Colab. The advantage of using notebooks is that you can include text, code, and plots in the same document. This makes it ideal for example to write up a report about a project that uses mostly Python code, in order to share with others. In fact, the notes for this course are written using Jupyter notebooks!"
   ]
  },
  {
   "cell_type": "markdown",
   "metadata": {},
   "source": [
    "## First steps"
   ]
  },
  {
   "cell_type": "markdown",
   "metadata": {
    "editable": true,
    "slideshow": {
     "slide_type": ""
    },
    "tags": []
   },
   "source": [
    "We previously discussed how to launch a new Notebook. Ensure that you launch the notebook with a Python3-kernel if there are several possibilities. You can change the name of the document by right-clicking on the **Untitled** name at the top and entering a new name. Make sure you then save the document (make sure that you save regularly as you might lose content if you close the browser window!).\n",
    "\n",
    "At first glance, a notebook environment looks like a fairly typical application - it has a menubar (**File**, **Edit**, **View**, etc.) and a tool bar with icons. Below this, you will see an empty cell, in which you can type any Python code as we previously demonstrated with the \"Hello World!\" example.  You can write several lines of code, and once it is ready to run, you can press shift-enter and it will get executed:"
   ]
  },
  {
   "cell_type": "code",
   "execution_count": 1,
   "metadata": {
    "ExecuteTime": {
     "end_time": "2023-12-27T18:12:16.477945Z",
     "start_time": "2023-12-27T18:12:16.475041Z"
    }
   },
   "outputs": [],
   "source": [
    "a = 1"
   ]
  },
  {
   "cell_type": "code",
   "execution_count": 2,
   "metadata": {},
   "outputs": [
    {
     "name": "stdout",
     "output_type": "stream",
     "text": [
      "1\n"
     ]
    }
   ],
   "source": [
    "print(a)"
   ]
  },
  {
   "cell_type": "markdown",
   "metadata": {},
   "source": [
    "You can then click on that cell, change the Python code, and press shift-enter again to re-execute the code. Once you have executed a cell once, a new cell will appear below. You can again enter some code, then press shift-enter to execute it."
   ]
  },
  {
   "cell_type": "markdown",
   "metadata": {},
   "source": [
    "## Text (markdown cells)"
   ]
  },
  {
   "cell_type": "markdown",
   "metadata": {
    "editable": true,
    "slideshow": {
     "slide_type": ""
    },
    "tags": []
   },
   "source": [
    "It is likely that you will want to enter actual text (non-code) in the notebook. To do this, click on a cell, and in the drop-down menu in the toolbar, select 'Markdown'. This is a specific type of syntax for writing text. You can just write text normally and press shift-enter to *render* it:\n",
    "\n",
    "```This is some plain text```\n",
    "\n",
    "To edit it, double click on the cell. You can also enter section headings using the following syntax:\n",
    "\n",
    "```# This is a title```\n",
    "    \n",
    "```## This is a sub-title```\n",
    "    \n",
    "which will look like:\n",
    "\n",
    "this is some plain text\n",
    "\n",
    "# This is a title\n",
    "\n",
    "## This is a sub-title\n",
    "\n",
    "Finally, you can use LaTeX within Markdown cells:\n",
    "\n",
    "```\n",
    "\\begin{equation} \n",
    "E = m c^2 \n",
    "\\end{equation}\n",
    "```\n",
    "\n",
    "for equations centered on a separate line, or:\n",
    "\n",
    "```The equation $p=h/\\lambda$ is very important```\n",
    "\n",
    "to include it in a sentence. This will look like:\n",
    "\n",
    "\\begin{equation}\n",
    "  E = m c^2\n",
    "\\end{equation}\n",
    "\n",
    "The equation $p=h/\\lambda$ is very important"
   ]
  },
  {
   "cell_type": "markdown",
   "metadata": {
    "editable": true,
    "slideshow": {
     "slide_type": ""
    },
    "tags": []
   },
   "source": [
    "## Splitting/deleting/moving cells"
   ]
  },
  {
   "cell_type": "markdown",
   "metadata": {
    "editable": true,
    "slideshow": {
     "slide_type": ""
    },
    "tags": []
   },
   "source": [
    "You can split, delete, and move cells by going to 'Edit' and selecting the appropriate command. Some of the commands are also available in the toolbar - put your mouse over the icon and wait for a second, and it will tell you what it does."
   ]
  },
  {
   "cell_type": "markdown",
   "metadata": {},
   "source": [
    "## Markdown language cheat sheet"
   ]
  },
  {
   "cell_type": "markdown",
   "metadata": {},
   "source": [
    "The markdown language is extremly powerful. It allows for instance the inclusion of images, web links, videos and offers very rich text formatting possibilities.\n",
    "There are many good markdown tutorials and cheat sheets on the Web. You can visit [this page](https://github.com/adam-p/markdown-here/wiki/Markdown-Cheatsheet) to get started! Note that if you know html, you can also write html in markdown cells, and it will be rendered. \n",
    "\n",
    "**Note:** Take some time to learn keyboard short-cuts for the most important cell-operations. You can find a list on the web, e.g. [here](https://www.cheatography.com/weidadeyue/cheat-sheets/jupyter-notebook/). Note that if you develop your notebooks in an IDE the short-cuts might be different. My experience is that things often work better when you work locally on your own machine using jupyter lab, but I also use VSCode to develop notebooks."
   ]
  },
  {
   "cell_type": "markdown",
   "metadata": {
    "collapsed": false,
    "editable": true,
    "jupyter": {
     "outputs_hidden": false
    },
    "slideshow": {
     "slide_type": ""
    },
    "tags": []
   },
   "source": [
    "## Plotting\n",
    "\n",
    "To make plots, enter any Matplotlib commands (we will discuss this in later lectures), and just press shift-enter - note that all commands for a plot should be entered in one cell, you cannot split it up over multiple cells:"
   ]
  },
  {
   "cell_type": "code",
   "execution_count": 3,
   "metadata": {
    "ExecuteTime": {
     "end_time": "2023-12-27T18:17:41.514536Z",
     "start_time": "2023-12-27T18:17:41.452308Z"
    },
    "collapsed": false,
    "jupyter": {
     "outputs_hidden": false
    }
   },
   "outputs": [
    {
     "data": {
      "text/plain": [
       "Text(0, 0.5, 'y')"
      ]
     },
     "execution_count": 3,
     "metadata": {},
     "output_type": "execute_result"
    },
    {
     "data": {
      "image/png": "[encoded data removed]",
      "text/plain": [
       "<Figure size 640x480 with 1 Axes>"
      ]
     },
     "metadata": {},
     "output_type": "display_data"
    }
   ],
   "source": [
    "import matplotlib.pyplot as plt\n",
    "plt.plot([1,2,3, 7],[4,5,6, 25])\n",
    "plt.xlabel(\"x\")\n",
    "plt.ylabel(\"y\")"
   ]
  },
  {
   "cell_type": "markdown",
   "metadata": {
    "collapsed": false,
    "jupyter": {
     "outputs_hidden": false
    }
   },
   "source": [
    "If you are using jupyter notebook instead of jupyter lab, you will need to add the  ```%matplotlib inline``` command. It is not needed in jupyter lab or Google Colab.\n",
    "\n",
    "As before, you can always go back and edit the cell to re-make the plot. If you want to save it, make sure you include ``plt.savefig(filename)`` as the last command, where ``filename`` is the name of the plot, such as ``my_plot.png``.\n"
   ]
  },
  {
   "cell_type": "markdown",
   "metadata": {},
   "source": [
    "## Important notes"
   ]
  },
  {
   "cell_type": "markdown",
   "metadata": {},
   "source": [
    "Two important notes about using the notebook:\n",
    "\n",
    "1. Save often! There is an auto-save in the notebook, but better to also save explicitly from time to time.\n",
    "3. Code *can* be executed in an order different from top to bottom, but note that if you do this variables will not be reset. So for example if you type:"
   ]
  },
  {
   "cell_type": "code",
   "execution_count": 4,
   "metadata": {},
   "outputs": [],
   "source": [
    "a = 5"
   ]
  },
  {
   "cell_type": "markdown",
   "metadata": {},
   "source": [
    "then go higher up and type:"
   ]
  },
  {
   "cell_type": "code",
   "execution_count": 5,
   "metadata": {},
   "outputs": [
    {
     "name": "stdout",
     "output_type": "stream",
     "text": [
      "5\n"
     ]
    }
   ],
   "source": [
    "print(a)\n",
    "# this is a print statement"
   ]
  },
  {
   "cell_type": "markdown",
   "metadata": {},
   "source": [
    "it will give the value you previously set. To make sure that your code works from top to bottom, go to the **Run** menu item and navigate to **Run** -> **Run All Cells** \n",
    "\n",
    "But note that the variables that were defined anywhere in the notebook still exist in memory if you **Run All Cells**. This is true even if you removed a cell, i.e. the variables set in that cell still exist unless you restart the notebook. If you want to restart a notebook and clear all the variables, you can select **Run** -> **Restart Kernel and Run All Cells**. This removes any variables from memory, and you runs all the cells in the notebook from the start."
   ]
  }
 ],
 "metadata": {
  "kernelspec": {
   "display_name": "Phys29",
   "language": "python",
   "name": "python3"
  },
  "language_info": {
   "codemirror_mode": {
    "name": "ipython",
    "version": 3
   },
   "file_extension": ".py",
   "mimetype": "text/x-python",
   "name": "python",
   "nbconvert_exporter": "python",
   "pygments_lexer": "ipython3",
   "version": "3.11.5"
  }
 },
 "nbformat": 4,
 "nbformat_minor": 4
}
