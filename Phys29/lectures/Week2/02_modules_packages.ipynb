{
 "cells": [
  {
   "cell_type": "markdown",
   "metadata": {},
   "source": [
    "# Modules and Packages\n",
    "\n",
    "A good scientific calculator has all sorts of built-in functions like ```sin```, ```ln```, ```sqrt```.  These are also available to you in Python via a \n",
    "**package** known as ```numpy``` (see also ```math```).   Modules and packages are libraries for Python code. You will use them constantly to use existing code. As a more experienced programmer you can write your own modules and packages to re-use your code. \n"
   ]
  },
  {
   "cell_type": "markdown",
   "metadata": {},
   "source": [
    "## Modules \n",
    "\n",
    "A modules is a file with Python code with the .py suffix. It typically contains:\n",
    "- variable assignments\n",
    "- function definitions\n",
    "- classes/objects\n",
    "\n",
    "i.e. code that defines things, but that does not immediately execute (although nothing prevents you from putting code that can execute in such a file).  In simple terms, we can consider a module to be a file that contains a set of variables, functions, or classes that you want to include in your application. \n",
    "\n",
    "The module name is the file name with the .py suffix removed. It can be **imported** into another Python program using the ```import``` statement.\n",
    "```python \n",
    "import module_name\n",
    "```\n",
    "\n",
    "where module_name.py would be the python file for the module. "
   ]
  },
  {
   "cell_type": "markdown",
   "metadata": {},
   "source": [
    "For example you can find the constants.py python file in this lectures directory. It contains the following simple block of code: \n",
    "```python\n",
    "# constants.py: Module containing some fundamental constants constants.py\n",
    "\n",
    "pi = 3.1415926535897932384626\n",
    "h = 6.62607015e-34\n",
    "c = 299792458\n",
    "```"
   ]
  },
  {
   "cell_type": "code",
   "execution_count": null,
   "metadata": {},
   "outputs": [],
   "source": [
    "import constants\n",
    "two_pi = 2*constants.pi\n",
    "hbar = constants.h/two_pi\n",
    "print('hbar = {:.9e}'.format(hbar))"
   ]
  },
  {
   "cell_type": "markdown",
   "metadata": {},
   "source": [
    "The contents of a module are accessed with the “dot” operator, e.g, constants.pi.\n",
    "\n",
    "Other ways to import: "
   ]
  },
  {
   "cell_type": "code",
   "execution_count": null,
   "metadata": {},
   "outputs": [],
   "source": [
    "# directly import specific variables\n",
    "from constants import h, pi\n",
    "hbar = h / (2*pi)\n",
    "print('hbar = {:.9e}'.format(hbar))\n",
    "\n",
    "# aliasing or a name change\n",
    "import constants as c\n",
    "hbar = c.h / (2*c.pi)\n",
    "print('hbar = {:.9e}'.format(hbar))"
   ]
  },
  {
   "cell_type": "markdown",
   "metadata": {},
   "source": [
    "## Packages\n"
   ]
  },
  {
   "cell_type": "markdown",
   "metadata": {},
   "source": [
    "A Python package is a collection of modules that are distributed together. \n",
    "- A package modularizes the modules. \n",
    "- Modules in a package are also accessed with the dot operator\n",
    "- Packages become important when working on larger projects. Many external Python libraries are distributed as packages. \n",
    "\n",
    "Like modules, packages need to be imported into your code using the command ```import```.  There are three very useful Python packages in particular which we will use in this course, and which in fact are the three most widely used in the sciences:  ```numpy```, ```scipy```, and ```matplotlib```.  For example, consider scipy which we will use in this course for several different applications: "
   ]
  },
  {
   "cell_type": "code",
   "execution_count": null,
   "metadata": {},
   "outputs": [],
   "source": [
    "import scipy\n",
    "dir(scipy)"
   ]
  },
  {
   "cell_type": "markdown",
   "metadata": {},
   "source": [
    "Above I used the dir() function which is part of the [Python Standard Library](http://docs.python.org/3/library), to access the **attributes** of the ```scipy``` package. Note that I can achieve the same thing in a Jupyter notebook code cell or in the Ipython shell via the `<TAB>` key, i.e. "
   ]
  },
  {
   "cell_type": "markdown",
   "metadata": {},
   "source": [
    "```python\n",
    "In [3]: scipy.<TAB>\n",
    "               cluster          integrate        misc             signal           test            \n",
    "               constants        interpolate      ndimage          sparse                           \n",
    "               datasets         io               odr              spatial                          \n",
    "               fft              linalg           optimize         special                          \n",
    "               fftpack          LowLevelCallable show_config()    stats                            \n",
    "```"
   ]
  },
  {
   "cell_type": "markdown",
   "metadata": {},
   "source": [
    "Note that scipy has a module known as constants, I can access it via the dot operator."
   ]
  },
  {
   "cell_type": "code",
   "execution_count": null,
   "metadata": {},
   "outputs": [],
   "source": [
    "print('Scipy h = {:.9e}'.format(scipy.constants.Planck))\n",
    "print('My h= {:.9e}'.format(constants.h))"
   ]
  },
  {
   "cell_type": "markdown",
   "metadata": {},
   "source": [
    "In a Jupyter notebook, you can access help using either the help function or the question mark, ```?``` key"
   ]
  },
  {
   "cell_type": "code",
   "execution_count": null,
   "metadata": {},
   "outputs": [],
   "source": [
    "help(scipy.integrate)"
   ]
  },
  {
   "cell_type": "code",
   "execution_count": null,
   "metadata": {},
   "outputs": [],
   "source": [
    "scipy.special.jv?\n"
   ]
  },
  {
   "cell_type": "markdown",
   "metadata": {},
   "source": [
    "In this example, the constants.py module that I imported above does not overwrite (or “shadow”) the scipy.constants module (or vice versa): they live in what are called different **namespaces**. Packages organize modules so that name collisions are avoided."
   ]
  },
  {
   "cell_type": "markdown",
   "metadata": {},
   "source": [
    "Below I provide an example that combines the use of the ```numpy```, ```scipy```, and ```matplotlib``` packages. "
   ]
  },
  {
   "cell_type": "code",
   "execution_count": null,
   "metadata": {},
   "outputs": [],
   "source": [
    "import numpy as np\n",
    "from scipy.special import jv   # jv is the function for the Bessel function of the first kind\n",
    "import matplotlib.pyplot as plt\n",
    "\n",
    "x = np.linspace(0, 10*np.pi, 500) # Set up a linearly spaced domain between 0 and 30 with 500 points. \n",
    "y = jv(0, x)   # Compute the range, which is the Bessel function of order 0 on this domain, i.e. y = J_0(x)\n",
    "# Make the plot\n",
    "plt.plot(x, y, label=r'$J_{}(x)$'.format(0))\n",
    "plt.title('Bessel Functions of the First Kind (order 0)')\n",
    "plt.xlabel('x')\n",
    "plt.ylabel('y')\n",
    "plt.grid(True)\n",
    "plt.legend()\n",
    "plt.show()"
   ]
  },
  {
   "cell_type": "markdown",
   "metadata": {},
   "source": [
    "Note that I have imported the ```numpy``` module and called it ```np```.  This just saves me typing out the full word ```numpy``` all the time, and indeed  ```np``` is a VERY common shorthand.  ```numpy``` has a lot of useful functions, including the trig functions and\n",
    "their inverses (e.g. ```np.arcsin()```), hyperbolic trig functions (e.g. ```np.sinh()```), the exponential function ```np.exp()```, logarithms (```np.log()``` is $\\ln$, the natural logarithm to base $e$ - if you want log base ten use ```np.log10()```), and the square root function ```np.sqrt()```.  It also has a number of useful mathematical constants, i.e. I used ```np.pi``` in the example above to access the constant $\\pi$. \n",
    "\n",
    "I also imported the ```scipy``` module so that I could access the Bessel functions in the ```scipy.special``` sub-module. In other words the ```scipy``` package is actually a collection of ```.py``` files arranged in a directory hierarchy, and so you can think of ```scipy.special``` as being the path to a file in that directory structure.  Finally, I used the statement ```import matplotlib.pyplot as plt``` to import the ```pyplot``` function (abbreviated as ```plt``` as is the standard) from the ```matplotlib.pyplot``` sub-module. \n",
    "\n",
    "Finally, take note of how I provided comments in my code via the ```#```, explaining the logic behind my reasoning. \n"
   ]
  }
 ],
 "metadata": {
  "kernelspec": {
   "display_name": "Phys29",
   "language": "python",
   "name": "python3"
  },
  "language_info": {
   "codemirror_mode": {
    "name": "ipython",
    "version": 3
   },
   "file_extension": ".py",
   "mimetype": "text/x-python",
   "name": "python",
   "nbconvert_exporter": "python",
   "pygments_lexer": "ipython3",
   "version": "3.11.5"
  }
 },
 "nbformat": 4,
 "nbformat_minor": 4
}
