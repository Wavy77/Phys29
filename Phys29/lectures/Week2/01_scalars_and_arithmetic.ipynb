{
 "cells": [
  {
   "cell_type": "markdown",
   "metadata": {},
   "source": [
    "# Scalar Types in Core-Python"
   ]
  },
  {
   "cell_type": "markdown",
   "metadata": {},
   "source": [
    "Programming languages like Python have specific data types that reflect how information is stored in the computer memory.  We concentrate here on numbers, especially Integrers and Floats, and also Booleans (True of False). The table below summarizes the built-in simple scalar data types offered by Python, some of which we will discuss. "
   ]
  },
  {
   "cell_type": "markdown",
   "metadata": {},
   "source": [
    "### Python Scalar Types\n",
    "\n",
    "| Type        | Example        | Description                                                  |\n",
    "|-------------|----------------|--------------------------------------------------------------|\n",
    "| ``int``     | ``x = 1``      | integers (i.e., whole numbers)                               |\n",
    "| ``float``   | ``x = 1.0``    | floating-point numbers (i.e., real numbers)                  |\n",
    "| ``complex`` | ``x = 1 + 2j`` | Complex numbers (i.e., numbers with real and imaginary part) |\n",
    "| ``bool``    | ``x = True``   | Boolean: True/False values                                   |\n",
    "| ``str``     | ``x = 'abc'``  | String: characters or text                                   |\n",
    "| ``NoneType``| ``x = None``   | Special object indicating nulls                              |                   "
   ]
  },
  {
   "cell_type": "markdown",
   "metadata": {},
   "source": [
    "## Integer Type"
   ]
  },
  {
   "cell_type": "markdown",
   "metadata": {},
   "source": [
    "### Basic Integer operations"
   ]
  },
  {
   "cell_type": "code",
   "execution_count": 2,
   "metadata": {
    "ExecuteTime": {
     "end_time": "2024-01-19T19:42:14.725634Z",
     "start_time": "2024-01-19T19:42:14.718309Z"
    }
   },
   "outputs": [
    {
     "name": "stdout",
     "output_type": "stream",
     "text": [
      "5 2\n"
     ]
    }
   ],
   "source": [
    "a = 5  # assigning the integer value 5 to variable 'a'\n",
    "b = 2\n",
    "print(a,b)"
   ]
  },
  {
   "cell_type": "markdown",
   "metadata": {},
   "source": [
    "Note that above we added comments to our code cell using the # symbol"
   ]
  },
  {
   "cell_type": "markdown",
   "metadata": {},
   "source": [
    "We can verify that these variables have integer data types by using the type function native to python"
   ]
  },
  {
   "cell_type": "code",
   "execution_count": 3,
   "metadata": {},
   "outputs": [
    {
     "data": {
      "text/plain": [
       "int"
      ]
     },
     "execution_count": 3,
     "metadata": {},
     "output_type": "execute_result"
    }
   ],
   "source": [
    "type(a)"
   ]
  },
  {
   "cell_type": "markdown",
   "metadata": {},
   "source": [
    "The following operations are obvious, aren't they?"
   ]
  },
  {
   "cell_type": "code",
   "execution_count": 4,
   "metadata": {},
   "outputs": [
    {
     "name": "stdout",
     "output_type": "stream",
     "text": [
      "7 3\n",
      "10\n",
      "25\n",
      "2378064745833997089035291835260712838458865431811172691488433289557139138657603628438861986726706923349682264965985710377075584782188694692388947882175715519096675757218693363993962520205904428245134267078693818602685930613787403444349673750635551316739530524895408978060031103182470773666038096585996224572366020922922741813375977008950609768424189481012172621072842651947024496743122176907089835987862122732310713816419679412824662104973781214735145677660749637079556213075837285722443038754778346881579015918943327195917881149439724094933128669446556416470532227687870386234974128583815190410217053872782485805428030123508280668459404061483915456124322080471245927500999765814304079369997836412119328766896770025073773637881461886393763198491381533166250356427920171543091065325015639817188395887395256998812451647205410389780658706958486877635305492456193832833394713360657435410066143050999138740329543502360903770744096738684337640671289462134454882877648883255729913744107619012671861540790714616640142624237929502766607140809669974506851763768063425875275792176508417261388844451273907518292936167111873286406275996081702481440887180422148294186164804163727713622662064716750392223252809575011026769974375523428799048872277941771728393521054839358319000181760249272723266242288942313186347035691433675133873317412409327135279314709559425076477433653254749619019831030795005501074269414988195919783534048589478873525634740143523829122817094751801274630303237222595708990590193994111374446614605382522132568053594610847273612657388555713216334204672470663007665466715951810404851446568103499257336412444463214449080832087296272600344870025851740132664243647186578851593551620523607417121001554285508245430496057007049478498181585348797855244132931992745912758199610781955730830560516178514164952817821071919197567870992288020665195023661001515168378481710873875232163887727509509086330564846326035891739366440810242232213743571670477729583475445091682997961349353634876688026277882950389096803442365492207174237496871420450997430227805186939896202471224382610491433099418545319560788624138403215040331708488263608451676972326800356714308555498095226374153223101686278937792813415780922706806303797654418142235006817233403525647497473371778484863802932310418444344560353374733419050611562830811765300848267418452268679220537093842973746126123986374933330607916978275783183610388712087361311315748364653324096283458152449231322996047913194195832549480727793317312706785533968600359880607973194236959396729795223245499403820157924683203407395944305532033087698517288491650885240862709258607956082980298004826899041294620848740333907253498110062290510121396015239485301266435599317851076894072478145278501826556007768455292719741488428310590847439296376789570374925331618683765731335843069154983624067488401239819441815430296645234153782267807671398030272479146287370541629019685405335748389126630430926059059036906069296872669436019885693160711597880523526030134456898669975068245290874963831722995970995451081662157617127903626186488905656878054826729492009211872512534814759637626405059205624852253655207036316651611494277375865705672241082338163676392495155470566925198235296663206326710342063852710396626619293216407145026558498827339422165369492762658846770102887942817462425770073619226946360657630279347727268032466169801524152631703192139702865560804089767395772056135473398364693796901352162227561900879910394429237734787345643578488606299974853763517352495981449816581975846237812141745340372684095373341038116275144934949511817187625491372194658399549166227996588417645504894302258122316235692118804043605061213114386427823769378053950032466368595266921297666875709788692009375642443963768427691482346475403709300830163548363360947813655835665838589490137826494044193115229290924617089331150054931640625\n"
     ]
    }
   ],
   "source": [
    "print(a + b, a - b) # Integer addition and subtraction\n",
    "print(a * b)        # Integer multiplication\n",
    "print(a**b)         # 5 to the power of 2\n",
    "print(5**5460)      # 'arbitrarily accurate' integer arithmetic! "
   ]
  },
  {
   "cell_type": "markdown",
   "metadata": {},
   "source": [
    "What about the following. Is it what you would expect?"
   ]
  },
  {
   "cell_type": "code",
   "execution_count": 5,
   "metadata": {
    "ExecuteTime": {
     "end_time": "2024-01-19T19:42:29.794272Z",
     "start_time": "2024-01-19T19:42:29.781234Z"
    }
   },
   "outputs": [
    {
     "name": "stdout",
     "output_type": "stream",
     "text": [
      "2.5\n"
     ]
    }
   ],
   "source": [
    "x = a / b        # x is a new variable which is a/b, i.e. division\n",
    "print(x)"
   ]
  },
  {
   "cell_type": "markdown",
   "metadata": {},
   "source": [
    "Note that the type of x has changed though, it is no longer an integer but rather it has been promoted to a float, which is short for a floating point number. "
   ]
  },
  {
   "cell_type": "code",
   "execution_count": 6,
   "metadata": {
    "ExecuteTime": {
     "end_time": "2024-01-19T19:42:39.896520Z",
     "start_time": "2024-01-19T19:42:39.879212Z"
    }
   },
   "outputs": [
    {
     "name": "stdout",
     "output_type": "stream",
     "text": [
      "<class 'float'>\n"
     ]
    }
   ],
   "source": [
    "print(type(x))"
   ]
  },
  {
   "cell_type": "markdown",
   "metadata": {},
   "source": [
    "### Simultaneous assignment of values to different variables"
   ]
  },
  {
   "cell_type": "code",
   "execution_count": 7,
   "metadata": {
    "ExecuteTime": {
     "end_time": "2024-01-19T19:42:43.615976Z",
     "start_time": "2024-01-19T19:42:43.608926Z"
    }
   },
   "outputs": [
    {
     "name": "stdout",
     "output_type": "stream",
     "text": [
      "6 7 8 9 5 1 2\n"
     ]
    }
   ],
   "source": [
    "# In contrast to many other languages, Python allows one to simultaneously\n",
    "# assign values to severtal variables:\n",
    "\n",
    "x = 5        # usual assignment\n",
    "y, z = 1, 2  # simultaneous assignemnt to two variables\n",
    "a, b, c, d = 6, 7, 8, 9 # works with arbitrarily many!\n",
    "\n",
    "print(a, b, c, d, x, y, z)"
   ]
  },
  {
   "cell_type": "markdown",
   "metadata": {},
   "source": [
    "## Float Type"
   ]
  },
  {
   "cell_type": "markdown",
   "metadata": {},
   "source": [
    "The floating point data type is what is used to approximate real numbers.  We will discuss why this representation is an approximation in the aside below. "
   ]
  },
  {
   "cell_type": "code",
   "execution_count": 8,
   "metadata": {
    "ExecuteTime": {
     "end_time": "2024-01-19T19:42:45.784505Z",
     "start_time": "2024-01-19T19:42:45.762747Z"
    }
   },
   "outputs": [
    {
     "name": "stdout",
     "output_type": "stream",
     "text": [
      "3.24159 3.04159 12.0 31.415899999999997\n",
      "3.1\n"
     ]
    },
    {
     "data": {
      "text/plain": [
       "float"
      ]
     },
     "execution_count": 8,
     "metadata": {},
     "output_type": "execute_result"
    }
   ],
   "source": [
    "pi = 3.14159 # For full precision use numpy.pi\n",
    "d = .1       # equal to 0.1\n",
    "e = 1.2e2    # read: 1.2 times 10 to the power of 2\n",
    "\n",
    "print(pi + d, pi - d, d * e, pi / d)\n",
    "print(d + 3)  # in mixed calculations, integer values are 'promoted' to float\n",
    "type(d+3)"
   ]
  },
  {
   "cell_type": "markdown",
   "metadata": {},
   "source": [
    "## Boolean Type\n",
    "Python has an *explicit* boolean data type which can only take the values ```True``` and ```False```. It is used to test conditions in loops and conditional ```if``` statements and store information that can only be True or False. We could of course just use ```1``` to represent ```True``` and ```0``` to represent ```False```, however this would require more computer memory to store the information, since 1 and 0 are integers that require more bits than a simple boolean. "
   ]
  },
  {
   "cell_type": "code",
   "execution_count": 9,
   "metadata": {},
   "outputs": [
    {
     "data": {
      "text/plain": [
       "bool"
      ]
     },
     "execution_count": 9,
     "metadata": {},
     "output_type": "execute_result"
    }
   ],
   "source": [
    "f = False\n",
    "t = True\n",
    "tt = True\n",
    "type(f)"
   ]
  },
  {
   "cell_type": "code",
   "execution_count": 10,
   "metadata": {},
   "outputs": [
    {
     "name": "stdout",
     "output_type": "stream",
     "text": [
      "True\n",
      "False\n",
      "True\n"
     ]
    }
   ],
   "source": [
    "print(f or t)   # logical 'or' operator\n",
    "print(f and t)  # logical 'and' operator\n",
    "print(t and tt)"
   ]
  },
  {
   "cell_type": "markdown",
   "metadata": {},
   "source": [
    "Comparison operators like ```==``` (equal), ```!=``` (not equal), ```<``` (less than), ```>``` (greater than), ```<=``` (less than or equal to), and ```>=``` (greater than or equal to) can be used to compare values and return a boolean value."
   ]
  },
  {
   "cell_type": "code",
   "execution_count": 11,
   "metadata": {},
   "outputs": [
    {
     "name": "stdout",
     "output_type": "stream",
     "text": [
      "True\n",
      "False\n",
      "True\n"
     ]
    }
   ],
   "source": [
    "a = 1\n",
    "print(a == 1)   # test for equality\n",
    "print(a == 2)\n",
    "print(a < 5)"
   ]
  },
  {
   "cell_type": "code",
   "execution_count": 12,
   "metadata": {},
   "outputs": [
    {
     "name": "stdout",
     "output_type": "stream",
     "text": [
      "False\n"
     ]
    },
    {
     "data": {
      "text/plain": [
       "bool"
      ]
     },
     "execution_count": 12,
     "metadata": {},
     "output_type": "execute_result"
    }
   ],
   "source": [
    "y = a >= 5\n",
    "print(y)\n",
    "type(y)"
   ]
  },
  {
   "cell_type": "markdown",
   "metadata": {},
   "source": [
    "If we assign a boolean statement to a new variable ```y```, y has boolean type, in another words the output of the boolean statement is boolean. "
   ]
  },
  {
   "cell_type": "markdown",
   "metadata": {},
   "source": [
    "## String Type\n",
    "Strings in Python are created with single or double quotes:"
   ]
  },
  {
   "cell_type": "code",
   "execution_count": 19,
   "metadata": {},
   "outputs": [],
   "source": [
    "message = \"what do you like?\"\n",
    "response = 'spam'"
   ]
  },
  {
   "cell_type": "markdown",
   "metadata": {},
   "source": [
    "Python has many extremely useful string functions and methods; here are a few of them:"
   ]
  },
  {
   "cell_type": "code",
   "execution_count": 22,
   "metadata": {},
   "outputs": [
    {
     "data": {
      "text/plain": [
       "4"
      ]
     },
     "execution_count": 22,
     "metadata": {},
     "output_type": "execute_result"
    }
   ],
   "source": [
    "# length of string\n",
    "len(response)"
   ]
  },
  {
   "cell_type": "code",
   "execution_count": 26,
   "metadata": {},
   "outputs": [
    {
     "data": {
      "text/plain": [
       "'spam'"
      ]
     },
     "execution_count": 26,
     "metadata": {},
     "output_type": "execute_result"
    }
   ],
   "source": [
    "# Make upper-case. See also str.lower()\n",
    "new = response.upper()\n",
    "#new\n",
    "response"
   ]
  },
  {
   "cell_type": "code",
   "execution_count": null,
   "metadata": {},
   "outputs": [
    {
     "data": {
      "text/plain": [
       "'What do you like?'"
      ]
     },
     "execution_count": 27,
     "metadata": {},
     "output_type": "execute_result"
    }
   ],
   "source": [
    "# Capitalize. See also str.title()\n",
    "message.capitalize()"
   ]
  },
  {
   "cell_type": "code",
   "execution_count": 28,
   "metadata": {},
   "outputs": [
    {
     "data": {
      "text/plain": [
       "'what do you like?spam'"
      ]
     },
     "execution_count": 28,
     "metadata": {},
     "output_type": "execute_result"
    }
   ],
   "source": [
    "# concatenation with +\n",
    "message + response"
   ]
  },
  {
   "cell_type": "code",
   "execution_count": 29,
   "metadata": {},
   "outputs": [
    {
     "data": {
      "text/plain": [
       "'spamspamspamspamspam'"
      ]
     },
     "execution_count": 29,
     "metadata": {},
     "output_type": "execute_result"
    }
   ],
   "source": [
    "# multiplication is multiple concatenation\n",
    "5 * response"
   ]
  },
  {
   "cell_type": "code",
   "execution_count": 30,
   "metadata": {},
   "outputs": [
    {
     "name": "stdout",
     "output_type": "stream",
     "text": [
      "w\n",
      "h\n",
      "?\n"
     ]
    }
   ],
   "source": [
    "# Access individual characters (zero-based indexing)\n",
    "print(message[0])\n",
    "print(message[1])\n",
    "print(message[-1])"
   ]
  },
  {
   "cell_type": "markdown",
   "metadata": {},
   "source": [
    "We will explain more about indexing when we discuss Lists, as well as how to list and access the methods of a python object. "
   ]
  },
  {
   "cell_type": "markdown",
   "metadata": {},
   "source": [
    "# Order of Operations"
   ]
  },
  {
   "cell_type": "markdown",
   "metadata": {},
   "source": [
    "An **order of operations** is a standard order of precedence that different operations have in relationship to one another. Python utilizes the same order of operations that you learned in grade school. Powers are executed before multiplication and division, which are executed before addition and subtraction. Parentheses, (), can also be used in Python to supersede the standard order of operations. For example consider:\n",
    "\\begin{equation}\n",
    "\\frac{3\\times 4}{2^2 + 4/2}\n",
    "\\end{equation}"
   ]
  },
  {
   "cell_type": "code",
   "execution_count": 34,
   "metadata": {},
   "outputs": [
    {
     "name": "stdout",
     "output_type": "stream",
     "text": [
      "2.0\n"
     ]
    }
   ],
   "source": [
    "import numpy as np\n",
    "x = (3*4)/(2**2+ 4/2)\n",
    "print(x)"
   ]
  },
  {
   "cell_type": "markdown",
   "metadata": {},
   "source": [
    "- Operator precedence rules are summarised [here in Sec. 6.16 of the Python documentation](https://docs.python.org/3/reference/expressions.html).\n",
    "- They are generally valid, not only for integer operations, i.e. they apply to floats as well and outputs of functions!\n",
    "- **Advice**: Use parentheses to avoid any confusion and ambiguity! You should know the rules nevertheless to be able to read other peoples programs!"
   ]
  },
  {
   "cell_type": "markdown",
   "metadata": {},
   "source": [
    "# Scientific Notation"
   ]
  },
  {
   "cell_type": "markdown",
   "metadata": {},
   "source": [
    "In scientific notation, a number is written as:\n",
    "\n",
    "$$\n",
    "\\text{number} = \\text{mantissa} \\times 10^{\\text{exponent}}\n",
    "$$\n",
    "\n",
    "- The **mantissa** (also called the **significand**) contains the significant digits of the number.  It determines the **precision** — how many digits are kept.\n",
    "\n",
    "- The **exponent** tells you how many places to move the decimal point.  It controls the **scale** or **magnitude** of the number. The exponent can be positive or negative.\n",
    "\n",
    "The term **floating point** number is related to this notation.  The decimal point can \"float\" to the left or right, depending on the exponent. "
   ]
  },
  {
   "cell_type": "markdown",
   "metadata": {},
   "source": [
    "\n",
    "For example the speed of light in scientific notation is written as\n",
    "\n",
    "$$\n",
    "    c = 3.0 \\times 10^8~{\\rm m~s^{-1}}\n",
    "$$\n",
    "(in SI units).  You may well need the value of $c$ for your calculation.  You could write\n",
    "\n",
    "```c = 3*10**8```\n",
    "\n",
    "However, you should not do this.  Instead, please write\n",
    "\n",
    "```c = 3e8```\n",
    "\n",
    "These are interpreted very differently by the computer.  The first one takes the integer 10, raises it to the $8^{\\rm th}$ power, and then multiplies this by 3 and assigns the value to ```c```.  The second one assigns the value of $3 \\times 10^8$ directly to the variable ```c```.  The second way is faster, easier to read, and less vulnerable to bugs.    For a quick look at one reason why you should write scientific notation as, e.g., ```3e8```, try the following:\n"
   ]
  },
  {
   "cell_type": "code",
   "execution_count": 35,
   "metadata": {},
   "outputs": [
    {
     "name": "stdout",
     "output_type": "stream",
     "text": [
      "300000000\n"
     ]
    },
    {
     "data": {
      "text/plain": [
       "int"
      ]
     },
     "execution_count": 35,
     "metadata": {},
     "output_type": "execute_result"
    }
   ],
   "source": [
    "c = 3*10**8\n",
    "print(c)\n",
    "type(c)"
   ]
  },
  {
   "cell_type": "code",
   "execution_count": 39,
   "metadata": {},
   "outputs": [
    {
     "name": "stdout",
     "output_type": "stream",
     "text": [
      "300000000.0\n"
     ]
    },
    {
     "data": {
      "text/plain": [
       "float"
      ]
     },
     "execution_count": 39,
     "metadata": {},
     "output_type": "execute_result"
    }
   ],
   "source": [
    "c = 3e8\n",
    "print(c)\n",
    "type(c)"
   ]
  },
  {
   "cell_type": "markdown",
   "metadata": {},
   "source": [
    "Consider the following "
   ]
  },
  {
   "cell_type": "code",
   "execution_count": 40,
   "metadata": {},
   "outputs": [
    {
     "ename": "OverflowError",
     "evalue": "(34, 'Result too large')",
     "output_type": "error",
     "traceback": [
      "\u001b[0;31m---------------------------------------------------------------------------\u001b[0m",
      "\u001b[0;31mOverflowError\u001b[0m                             Traceback (most recent call last)",
      "Cell \u001b[0;32mIn[40], line 1\u001b[0m\n\u001b[0;32m----> 1\u001b[0m \u001b[38;5;28mprint\u001b[39m(\u001b[43mc\u001b[49m\u001b[38;5;241;43m*\u001b[39;49m\u001b[38;5;241;43m*\u001b[39;49m\u001b[43m(\u001b[49m\u001b[38;5;241;43m100\u001b[39;49m\u001b[43m)\u001b[49m)\n",
      "\u001b[0;31mOverflowError\u001b[0m: (34, 'Result too large')"
     ]
    }
   ],
   "source": [
    "print(c**(100))"
   ]
  },
  {
   "cell_type": "markdown",
   "metadata": {},
   "source": [
    "As you can see, you have to be very careful with taking large numbers to large powers. Indeed, there is a largest number and a smallest number (i.e. closest to zero) that a computer can represent because of details of how it stores numbers in memory (see below). Any number larger than about $10^{308}$ or ```1e308``` will be stored as ```inf``` (and will generate a warning called overflow), while a number closer to zero than $10^{-308}$ or ```1e-308``` will be stored as ```0.0``` (and generate an underflow warning).  If you get one of these warnings, it's because some part of your program gave a result that was beyond one of these numbers. "
   ]
  },
  {
   "cell_type": "markdown",
   "metadata": {},
   "source": [
    "You can determine the largest and smallest numbers that can be represented by executing the following code:"
   ]
  },
  {
   "cell_type": "code",
   "execution_count": 41,
   "metadata": {},
   "outputs": [
    {
     "name": "stdout",
     "output_type": "stream",
     "text": [
      "1.7976931348623157e+308 2.2250738585072014e-308\n"
     ]
    }
   ],
   "source": [
    "import sys\n",
    "print(sys.float_info.max,sys.float_info.min)"
   ]
  },
  {
   "cell_type": "markdown",
   "metadata": {},
   "source": [
    "There exist clever tricks to circumvent these limitations, but there is no way to get around the fact that finite storage capcity necessarily results in finite dynamic range and finite precision for numerical calclulations involving floating point numbers, as we discuss in more detail next. "
   ]
  },
  {
   "cell_type": "markdown",
   "metadata": {},
   "source": [
    "# Floating-point Precision and Binary Representation \n",
    "One thing to be aware of with floating point arithmetic is that its precision is limited, which can cause equality tests to be unstable. For example:"
   ]
  },
  {
   "cell_type": "code",
   "execution_count": null,
   "metadata": {},
   "outputs": [
    {
     "data": {
      "text/plain": [
       "True"
      ]
     },
     "execution_count": 46,
     "metadata": {},
     "output_type": "execute_result"
    }
   ],
   "source": [
    "#0.1 + 0.2 == 0.3\n",
    "#1 + 2 == 3\n",
    "0.125 == 0.1 + 0.025"
   ]
  },
  {
   "cell_type": "markdown",
   "metadata": {},
   "source": [
    "#### **Never ever compare float numbers to test for equality!!**"
   ]
  },
  {
   "cell_type": "markdown",
   "metadata": {},
   "source": [
    "Why is this the case? It turns out that it is not a behavior unique to Python, but is due to the fixed-precision format of the binary floating-point storage used by most, if not all, scientific computing platforms.\n",
    "All programming languages using floating-point numbers store them in a fixed number of bits, and this leads some numbers to be represented only approximately.\n",
    "We can see this by printing the three values to high precision:"
   ]
  },
  {
   "cell_type": "code",
   "execution_count": 48,
   "metadata": {},
   "outputs": [
    {
     "name": "stdout",
     "output_type": "stream",
     "text": [
      "0.1 = 0.10000000000000001\n",
      "0.2 = 0.20000000000000001\n",
      "0.3 = 0.29999999999999999\n",
      "0.125 = 0.12500000000000000\n"
     ]
    }
   ],
   "source": [
    "print(\"0.1 = {0:.17f}\".format(0.1))\n",
    "print(\"0.2 = {0:.17f}\".format(0.2))\n",
    "print(\"0.3 = {0:.17f}\".format(0.3))\n",
    "print(\"0.125 = {0:.17f}\".format(0.125))\n"
   ]
  },
  {
   "cell_type": "markdown",
   "metadata": {},
   "source": [
    "We're accustomed to thinking of numbers in decimal (base-10) notation, so that each fraction must be expressed as a sum of powers of 10:\n",
    "$$\n",
    "1 /8 = 0.125 = 1\\cdot 10^{-1} + 2\\cdot 10^{-2} + 5\\cdot 10^{-3}\n",
    "$$\n",
    "In the familiar base-10 representation, we represent this in the familiar decimal expression: $0.125$.\n",
    "\n",
    "Computers usually store values in binary notation, so that each number is expressed as a sum of powers of 2:\n",
    "$$\n",
    "1/8 = 0\\cdot 2^{-1} + 0\\cdot 2^{-2} + 1\\cdot 2^{-3}\n",
    "$$"
   ]
  },
  {
   "cell_type": "code",
   "execution_count": null,
   "metadata": {},
   "outputs": [],
   "source": [
    "0*(1/2) + 0*(1/2**2) + 1*(1/2**3)"
   ]
  },
  {
   "cell_type": "markdown",
   "metadata": {},
   "source": [
    "Notice that the coefficient in front of each term in base-2 is either 0 or 1, which is more appropriate to how information is stored on a computer, i.e. via electronic\n",
    "binary switches that can take on two possible values, i.e. on or off. In a base-2 representation, we can write this $0.001_2$, where the subscript 2 indicates binary notation.\n",
    "The value $0.125 = 0.001_2$ happens to be one number that both binary and decimal notation can represent exactly in a finite number of digits.  Similarly the integer 10 can be represented exactly in binary as $1010_2$,  i.e. \n",
    "$$\n",
    "10 = 1\\cdot 2^3 + 0\\cdot 2^2 + 1\\cdot 2^1 + 0\\cdot 2^0\n",
    "$$\n",
    "\n",
    "In the familiar base-10 representation of numbers, you are probably familiar with numbers that can't be expressed in a finite number of digits.\n",
    "For example, dividing $1$ by $3$ gives, in standard decimal notation:\n",
    "$$\n",
    "1 / 3 = 0.333333333\\cdots\n",
    "$$\n",
    "The 3s go on forever: that is, to truly represent this quotient, the number of required digits is infinite!\n",
    "\n",
    "Similarly, there are numbers for which binary representations require an infinite number of digits.\n",
    "For example:\n",
    "$$\n",
    "1 / 10 = 0.00011001100110011\\cdots_2\n",
    "$$\n",
    "If we consider only the first few terms we get:"
   ]
  },
  {
   "cell_type": "code",
   "execution_count": 49,
   "metadata": {},
   "outputs": [
    {
     "data": {
      "text/plain": [
       "0.0999755859375"
      ]
     },
     "execution_count": 49,
     "metadata": {},
     "output_type": "execute_result"
    }
   ],
   "source": [
    "1/(2**4) + 1/(2**5) + 1/(2**8) + 1/(2**9) + 1/(2**12) + 1/(2**13)"
   ]
  },
  {
   "cell_type": "markdown",
   "metadata": {},
   "source": [
    "Whereas in decimal notation obviously\n",
    "$$\n",
    "1 / 10 = 1\\cdot 10^{-1} + 0\\cdot 10^{-2} + 0\\cdot 10^{-3} \\cdots\n",
    "$$\n",
    "the representation is exact. "
   ]
  },
  {
   "cell_type": "markdown",
   "metadata": {},
   "source": [
    "Thus, just as decimal notation requires an infinite number of digits to perfectly represent $1/3$, binary notation requires an infinite number of digits to represent $1/10$.\n"
   ]
  },
  {
   "cell_type": "markdown",
   "metadata": {},
   "source": [
    "## How the Computer Stores Floating Point Numbers\n",
    "\n",
    "When computers store a decimal number as a floating point number, they always try to write it in a **standard format** — like scientific notation. But instead of using powers of 10, computers use powers of 2 or binary. \n",
    "\n",
    "Any nonzero number is rewritten so that there's **exactly one digit before the decimal point**, and that digit is always a `1`. This is called **normalization**.\n",
    "\n",
    "For example, just like we write:\n",
    "$$\n",
    "523.45 = 5.2345 \\times 10^2\n",
    "$$\n",
    "we do the same in binary:\n",
    "$$\n",
    "6.25 = 1.1001 \\times 2^2\n",
    "$$\n",
    "\n",
    "In binary, normalization always gives you a number that starts with 1, i.e. `1.xxx × 2^something` — which is how all floating point numbers are stored inside the computer. It is a result of the fact that binary numbers can only have 1s and 0s as the index — there's only one possible non-zero digit -- whereas in decimal it could be 0-9. This is why floating point representation works so efficiently in binary — we can assume that first 1 and  he computer **doesn't bother to store it** — it’s assumed. This trick is called the **hidden bit**. \n",
    "\n",
    "If you want to understand how this binary decomposition works in more detail, see the \"Aside\" below. "
   ]
  },
  {
   "cell_type": "markdown",
   "metadata": {},
   "source": [
    "Thus, for a \"double-precision\" floating point number, one bit is used for the sign (positive or negative), 11 bits represent the integer exponent, and 52 bits\n",
    "represent the fraction. In other words a 64-bit floating point number is represented as\n",
    "\\begin{equation}\n",
    "(-1)^{\\rm sign}\\left(1 + \\sum_{i=1}^{52} b_{52-i}2^{-i}\\right)2^{e-1023}, \n",
    "\\end{equation}\n",
    "where \n",
    "$$\n",
    "e = \\sum_{i=1}^{11} b_{63-i}2^{i-1}\n",
    "$$"
   ]
  },
  {
   "cell_type": "markdown",
   "metadata": {},
   "source": [
    "\n",
    "The bits are laid out in memory as follows:\n",
    "\n",
    "<img src=\"figures/float.png\" alt=\"floating point numbers\" width=\"800\">"
   ]
  },
  {
   "cell_type": "markdown",
   "metadata": {},
   "source": [
    "Now we can better see why ```1e-308``` and ```1e308``` are the smallest and largest numbers that can be represented by a 64-bit floating point number. Namely, as an 11bit integer, the exponent $e$ can range from 0 to 2047, which means that $e-1023$ in the equation above can run from $-1023$ to $+1024$. Hence, the smallest possible value is $2^{-1023} =$ ```1.1e-308``` and the largest possible value of $2^{1024} =$ ```1.8e308```."
   ]
  },
  {
   "cell_type": "markdown",
   "metadata": {},
   "source": [
    "This binary floating point representation also determines the **precision** with which a floating point number can be represented.  The number of bits used to represent the fraction is 52, which means that the last decimal place that can be represented for a 64-bit floating point number is $2^{-52} \\approx 2.2 \\times 10^{-16}$. So 64-bit floating point numbers stored in python are only accurate to 16 decimal places. This is what is known as the **machine epsilon** of the floating point number system, which you will think about in more detail in the homework. "
   ]
  },
  {
   "cell_type": "code",
   "execution_count": 50,
   "metadata": {},
   "outputs": [
    {
     "data": {
      "text/plain": [
       "2.220446049250313e-16"
      ]
     },
     "execution_count": 50,
     "metadata": {},
     "output_type": "execute_result"
    }
   ],
   "source": [
    "import sys\n",
    "sys.float_info.epsilon"
   ]
  },
  {
   "cell_type": "markdown",
   "metadata": {},
   "source": [
    "This rounding error associated with floating-point numbers is a necessary evil of working with a finite hardware representation.  The best way to deal with it is to always keep in mind that floating-point arithmetic is approximate, and *never* rely on exact equality tests with floating-point values. If you need to compare floats, the Python `numpy`-module has a function for it:"
   ]
  },
  {
   "cell_type": "code",
   "execution_count": 51,
   "metadata": {},
   "outputs": [
    {
     "data": {
      "text/plain": [
       "True"
      ]
     },
     "execution_count": 51,
     "metadata": {},
     "output_type": "execute_result"
    }
   ],
   "source": [
    "import numpy as np\n",
    "np.isclose(0.1 + 0.2, 0.3)"
   ]
  },
  {
   "cell_type": "markdown",
   "metadata": {},
   "source": [
    "### Aside: How 6.25 Is Written in Normalized Binary Form\n",
    "\n",
    "Let’s take the number **6.25** and write it in binary:\n",
    "\n",
    "- First, the whole number part:  \n",
    "  $$6 = 1 \\cdot 2^2 + 1 \\cdot 2^1 + 0 \\cdot 2^0 = 110_2 $$\n",
    "\n",
    "- Then the decimal part:  \n",
    "  $$0.25 = 0 \\cdot 2^{-1} + 1 \\cdot 2^{-2} =  0.01_2 $$\n",
    "\n",
    "So:\n",
    "$$\n",
    "6.25 = 1 \\cdot 2^2 + 1 \\cdot 2^1 + 0 \\cdot 2^0 + 0 \\cdot 2^{-1} + 1 \\cdot 2^{-2} = 110.01_2\n",
    "$$\n",
    "Or factoring out $2^2$:\n",
    "$$\n",
    "6.25 =  \\left(1 + 1 \\cdot 2^{-1} + 0 \\cdot 2^{-2} + 0 \\cdot 2^{-3} + 1 \\cdot 2^{-4}\\right)\\times 2^2 = 1.1001_2 \\times 2^2\n",
    "$$\n",
    "\n",
    "Thus we have **normalized** it — meaning we have rewritten it so there’s one digit before the binary point. This is just like writing:\n",
    "$$\n",
    "625 = 6.25 \\times 10^2 \\quad \\text{(in decimal)}\n",
    "$$\n",
    "in decimal scientific notation. \n",
    "\n",
    "So, in binary floating point:\n",
    "- The **mantissa** is the digits after the leading 1: `1001`\n",
    "- The **exponent** is 2 (because we moved the binary point 2 places to the left)\n",
    "\n",
    "This is how numbers are stored in normalized binary form:\n",
    "\n",
    "$$\n",
    "\\text{value} = 1.\\text{mantissa bits} \\times 2^{\\text{exponent}}\n",
    "$$\n",
    "\n",
    "\n",
    "\n"
   ]
  }
 ],
 "metadata": {
  "kernelspec": {
   "display_name": "Phys29",
   "language": "python",
   "name": "python3"
  },
  "language_info": {
   "codemirror_mode": {
    "name": "ipython",
    "version": 3
   },
   "file_extension": ".py",
   "mimetype": "text/x-python",
   "name": "python",
   "nbconvert_exporter": "python",
   "pygments_lexer": "ipython3",
   "version": "3.12.9"
  }
 },
 "nbformat": 4,
 "nbformat_minor": 4
}
