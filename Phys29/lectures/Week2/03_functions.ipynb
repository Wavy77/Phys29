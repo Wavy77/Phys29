{
 "cells": [
  {
   "cell_type": "markdown",
   "metadata": {},
   "source": [
    "# Functions\n",
    "In mathematics, a ${\\it function}$ $f:X\\rightarrow Y$ is a procedure which maps every element of the set $X$ (the function's *domain*) to a unique element\n",
    "of the set $Y$ (the function's *range*).  You all have enough experience now to know that functions are incredibly useful mathematical concepts, so much\n",
    "so that almost all programming languages used in the sciences have ways of defining them. For example, the  `numpy` package has a function `np.sin`, which maps real numbers (assumed\n",
    "to be in radians) into real numbers in the range -1.0 to 1.0: "
   ]
  },
  {
   "cell_type": "code",
   "execution_count": null,
   "metadata": {},
   "outputs": [],
   "source": [
    "import numpy as np\n",
    "import math \n",
    "x = np.pi/6.0\n",
    "y=np.sin(x)\n",
    "print(y)\n",
    "print(math.sin(x))"
   ]
  },
  {
   "cell_type": "markdown",
   "metadata": {},
   "source": [
    "Here is some very simple Python code that defines a function ${\\tt sqr(x)}$ that returns the square of its input: "
   ]
  },
  {
   "cell_type": "code",
   "execution_count": null,
   "metadata": {},
   "outputs": [],
   "source": [
    "def sqr(x):\n",
    "    \"\"\"\n",
    "    Function to square a number. \n",
    "\n",
    "    Parameters\n",
    "    ----------\n",
    "    x : float\n",
    "        Number to be squared.\n",
    "\n",
    "    Returns\n",
    "    -------\n",
    "    f: float\n",
    "        Square of the input number.\n",
    "    \"\"\"\n",
    "    return x**2\n",
    "# Test the function\n",
    "print(sqr(2))\n",
    "print(sqr(3))"
   ]
  },
  {
   "cell_type": "markdown",
   "metadata": {},
   "source": [
    "Clealry `sqr(x)` is equivalent to $f(x) = x^2$.  The syntax `def` defines the name of the function as `sqr` and the `x` inside of the parenthesis indicates the input variables that are passed to the function (in this case just  `x`).  The line of code defining the function must end with a colon `:`. The `return` command indicates what the function outputs or returns to the calling program. Note that this line is *indented*. The purpose of this indentation is to delineate the lines of code that are within the function and separate these lines from the code that precedes or follows it. The amount of indentation is up to you, but it must be at least one space and it must be the same for all subsequent lines within the function (unless you introduce another block of code within the function - more on that in a bit).  The Jupyter notebook editor automatically indents by four spaces after a `def` statement in a Code cell if you type the tab key, and I highly recommend that you stick with this convention.  The best way to format the indentations in python is by using the tab key which gives you four space indentations. "
   ]
  },
  {
   "cell_type": "markdown",
   "metadata": {},
   "source": [
    "Like variable names, function names can consist of letters, numbers, and the underscore character ```_```, but cannot begin with a number. Here is another more elaborate example of a function that computes the gravitational force between a massive planet $M_{\\rm planet}$ and a test mass $m$ at a distance $r$ from the planet's center:\n",
    "\\begin{equation}\n",
    "F_{\\rm grav} = -\\frac{GM_{\\rm planet}m}{r^2}\n",
    "\\end{equation}\n",
    "where $G$ is the gravitational constant and the negative sign indicates that the force is attractive.  The function is defined as follows: "
   ]
  },
  {
   "cell_type": "code",
   "execution_count": null,
   "metadata": {},
   "outputs": [],
   "source": [
    "def F_grav(r,m=1.0, M_planet=5.972e24):\n",
    "    \"\"\"\n",
    "    Function to calculate the gravitational force between two objects. \n",
    "\n",
    "    Parameters\n",
    "    ----------\n",
    "    r : float\n",
    "        Distance between the two objects in units of meters, m. \n",
    "    m : float, optional\n",
    "        Mass of the first object in kg. The default is 1.0 kg.\n",
    "    M_planet : float, optional\n",
    "        Mass of the second object in kg. The default is M_earth = 5.97e24 kg. \n",
    "\n",
    "    Returns\n",
    "    -------\n",
    "    F : float\n",
    "        Gravitational force between the two objects in Newtons N = kg m/s^2.\n",
    "    \"\"\"\n",
    "    G=6.67408e-11 # Newton's gravitational constant in units of m^3/(kg s^2)\n",
    "    return -G*m*M_planet/r**2\n",
    "\n",
    "# Force between a 1kg test mass and the Earth at the Earth's surface. \n",
    "r_earth=6.371e6 # Earth's radius in m\n",
    "print(\"Force on 1kg test mass at Earth's surface: {:.2f} N\".format(F_grav(r_earth)))\n",
    "# Force between a 1kg test mass and the Earth at the orbital location of the Hubble Space Telscope (HST)\n",
    "r_HST = 525000 + r_earth # HST is in orbit 525km = 525000m above the surface of the Earth\n",
    "print(\"Force on 1kg test mass at location of HST: {:.2f} N\".format(F_grav(r_HST)))\n",
    "# Force between a 2kg test mass and the Earth at the Earth's surface. \n",
    "print(\"Force on 2kg test mass at Earth's surface: {:.2f} N\".format(F_grav(r_earth, m=2.0)))\n",
    "# Force between a 2 kg mass and Jupiter at the surface of Jupiter\n",
    "r_jupiter = 69.911e6 # Jupiter's radius in m. Jupiter is about 11 times larger than the Earth.\n",
    "M_jupiter = 1.898e27 # Jupiter's mass in kg. Jupiter is about 318 times more massive than the Earth.\n",
    "# If we explicitly specify the keyword argument names we can pass them in in any order. This explicit usage\n",
    "# is better practice and less prone to errors should you get the order wrong. \n",
    "print(\"Force on 2kg test mass at Jupiter's surface (with keywords)   : {:.2f} N\".format(F_grav(r_jupiter,M_planet=M_jupiter,m=2.0)))\n",
    "# I can call also call this function by passing in the keyword argument with the keyword name, but then I need to adopt \n",
    "# the order of the arguments as they are defined in the function definition. This is dangerous because I could get the order wrong. \n",
    "print(\"Force on 2kg test mass at Jupiter's surface (without keywords): {:.2f} N\".format(F_grav(r_jupiter, 2.0, M_jupiter)))"
   ]
  },
  {
   "cell_type": "markdown",
   "metadata": {},
   "source": [
    "Note that in the function definition line in the example above, there are two types of variables. There are required variables, which must be passed to the function when it is called, and optional variables, which have default values that are used if the user does not specify a value for them.  In this case, the only required variable is \n",
    "the distance `r`. For multiple required variables they must be passed in in the same order as in the function definition. The user can \n",
    "can also specify the test mass `m` and the planet mass `M_planet`, if they want to. If they don't specify it, the function defaults to \n",
    "using 1kg for the `m` and the mass of the earth for `M_planet`.  The default values are specified in the function definition line, but the user can override these values by specifying new values when the function is called, as was done when we wanted to compute the Gravitatonal force at the surface of Jupiter. In this example `m` and `M_planet` are what are known as a kewyord arguments. Note that whereas the order of the required arguments is important,  the order in which the keyword arguments are passed to the function is arbitrary, since they are explicitly delineated by the keyword. But if the keywords are omitted as in the case of, second Jupiter example above, then the order of the keyword arguments must be the same as in the function definition."
   ]
  },
  {
   "cell_type": "markdown",
   "metadata": {},
   "source": [
    "Note that if I try to write out the value of the gravitational constant `G`:"
   ]
  },
  {
   "cell_type": "code",
   "execution_count": null,
   "metadata": {},
   "outputs": [],
   "source": [
    "print(G)"
   ]
  },
  {
   "cell_type": "markdown",
   "metadata": {},
   "source": [
    "I get an error that it is not defined. This is because variables that are defined within a function can only be accessed from inside that function. In other words, our current notebook is a python module (a python .py file or a Jupyter notebook .ipynb file), which has what is called a **namespace**, or a collection of variable names that are defined in the module. A function in python has its own local namespace which is separate from the namespace of the module. This local namespace is created when the function is called, and deleted when the function returns. The variables defined within the function like `G` are only accessible from within the function and cease to exist after the function exits.  This is what as known as the **scope** of the variable.\n",
    "\n",
    "If we wanted to be able to access `G` outside of the function, we would need to define it outside of the function in the module namespace.  For example:\n"
   ]
  },
  {
   "cell_type": "code",
   "execution_count": 5,
   "metadata": {},
   "outputs": [],
   "source": [
    "G_global = 6.67408e-11 # Newton's gravitational constant in units of m^3/(kg s^2)\n",
    "def F_grav_Gglobal(r,m=1.0, M_planet=5.972e24):\n",
    "    \"\"\"\n",
    "    Function to calculate the gravitational force between two objects. \n",
    "\n",
    "    Parameters\n",
    "    ----------\n",
    "    r : float\n",
    "        Distance between the two objects (m=meters).\n",
    "    m : float, optional\n",
    "        Mass of the first object (kg). Default is 1.0 kg.\n",
    "    M_planet : float, optional\n",
    "        Mass of the second object (kg). The default is M_earth = 5.97e24 kg. \n",
    "\n",
    "    Returns\n",
    "    -------\n",
    "    F : float\n",
    "        Gravitational force between the two objects (Newtons; N = kg m/s^2). \n",
    "    \"\"\"\n",
    "    return -G_global*m*M_planet/r**2"
   ]
  },
  {
   "cell_type": "markdown",
   "metadata": {},
   "source": [
    "In this new example above, the variable `G_global` is defined outside of the function, making it a global variable.  Generally speaking, defining global variables everywhere is considered bad coding practice. It is better to define variables specific to a function in the local namespace of that function. \n",
    "This makes the code more modular, minimizes the possibility that variables will collide, and reduces the interdepdency of blocks of code. All of these things make code easier to understand and debug, and reduce the odds of making mistakes.  However, there are occasions when you may want to define a variable that is used by many functions, for example for a quantity that multiple functions in your module depend on. "
   ]
  },
  {
   "cell_type": "markdown",
   "metadata": {},
   "source": [
    "In the same way that the constant `G_global` is a global variable, anything that is defined globally in a .py file or Jupyter notebook can be accessed by any function defined in that file or notebook.  For example"
   ]
  },
  {
   "cell_type": "code",
   "execution_count": 5,
   "metadata": {},
   "outputs": [],
   "source": [
    "def F_grav_with_sqr(r, m=1.0, M_planet=5.972e24):\n",
    "    \"\"\"\n",
    "    Function to calculate the gravitational force between two objects. \n",
    "\n",
    "    Parameters\n",
    "    ----------\n",
    "    r : float\n",
    "        Distance between the two objects (m)\n",
    "    m : float, optional\n",
    "        Mass of the first object (kg). The default is 1.0 kg.\n",
    "    M_planet : float, optional\n",
    "        Mass of the second object (kg). The default is M_earth = 5.97e24 kg. \n",
    "\n",
    "    Returns\n",
    "    -------\n",
    "    F : float\n",
    "        Gravitational force between the two objects (Newtons; N = kg m/s^2).\n",
    "    \"\"\"\n",
    "    G = 6.67408e-11 # Newton's gravitational constant in units of N m^2/kg^2 = m^3/(kg s^2)\n",
    "    return -G*m*M_planet/sqr(r)\n"
   ]
  },
  {
   "cell_type": "markdown",
   "metadata": {},
   "source": [
    "Or equivalently"
   ]
  },
  {
   "cell_type": "code",
   "execution_count": 6,
   "metadata": {},
   "outputs": [],
   "source": [
    "def F_grav_with_np(r,m=1.0, M_planet=5.972e24):\n",
    "    \"\"\"\n",
    "    Function to calculate the gravitational force between two objects. \n",
    "\n",
    "    Parameters\n",
    "    ----------\n",
    "    r : float\n",
    "        Distance between the two objects (m).\n",
    "    m : float, optional\n",
    "        Mass of the first object (kg). The default is 1.0 kg.\n",
    "    M_planet : float, optional\n",
    "        Mass of the second object (kg). The default is M_earth = 5.97e24 kg. \n",
    "\n",
    "    Returns\n",
    "    -------\n",
    "    F : float\n",
    "        Gravitational force between the two objects (Newtons; N = kg m/s^2).\n",
    "    \"\"\"\n",
    "    G = 6.67408e-11 # Newton's gravitational constant in units of m^3/(kg s^2)\n",
    "    return -G*m*M_planet/np.square(r)"
   ]
  },
  {
   "cell_type": "markdown",
   "metadata": {},
   "source": [
    "In the first case, we used our *globally* defined `sqr` function to compute the $r^2$. In the second case, we used the `numpy` module, which was globally imported into this notebooks namespace (see top of the notebook) as `np` via the statement `import numpy as np`, and we used the `np.square` function to compute the $r^2$.  "
   ]
  },
  {
   "cell_type": "code",
   "execution_count": null,
   "metadata": {},
   "outputs": [],
   "source": [
    "print(\"Force on Jupiter's surface: {:.2f} N\".format(F_grav_with_sqr(r_jupiter,m=2.0, M_planet=M_jupiter)))\n",
    "print(\"Force on Jupiter's surface: {:.2f} N\".format(F_grav_with_np(r_jupiter,m=2.0, M_planet=M_jupiter)))"
   ]
  },
  {
   "cell_type": "markdown",
   "metadata": {},
   "source": [
    "Finally, functions can also take other functions as arguments. You will encounter many occasions where you will want to define your own functions.  For example, suppose you want to numerically calculate the definite\n",
    "integral \n",
    "\\begin{equation}\n",
    "y=\\int_a^b f(x)dx.\n",
    "\\end{equation}\n",
    "In this course, you will learn how to write your own code to compute integrals, and the `scipy.integrate` module has a number of integration routines that you can use. A closely related problem is solving a first order ordinary differential equation,\n",
    "\\begin{equation}\n",
    "\\frac{dy}{dx}=f(x,y)\n",
    "\\end{equation}\n",
    "Again, `scipy.integrate` has a number of differential equation solvers.  However, either way, you will need to allow these codes to access the function $f(x)$. "
   ]
  },
  {
   "cell_type": "markdown",
   "metadata": {},
   "source": [
    "As a concrete example, suppose we wanted to write a function that computes the amount of work that is done by an arbitrary force law $F(r)$ which depends on distance $r$. The work is defined as the integral of the force over the distance moved:\n",
    "\\begin{equation}\n",
    "W = \\int_{r_{\\rm initial}}^{r_{\\rm final}} F(r) dr\n",
    "\\end{equation}\n",
    "which is accomplished by the code below. "
   ]
  },
  {
   "cell_type": "code",
   "execution_count": 8,
   "metadata": {},
   "outputs": [],
   "source": [
    "from scipy.integrate import quad\n",
    "def compute_work(force_law, r_initial,r_final):\n",
    "    \"\"\"\n",
    "    Compute the work done by an aribtrary force law when an object is moved from a distance r1 to a distance r2.\n",
    "\n",
    "    Parameters\n",
    "    ----------\n",
    "    force_law : function\n",
    "        Function that computes the force F(r) (Newtons). The first argument of this function must be the distance r  (m), \n",
    "        which is the variable that we integrate over.  \n",
    "    r_initial : float\n",
    "        Initial distance (m)\n",
    "    r_final : float\n",
    "        Final distance (m)\n",
    "    Returns\n",
    "    -------\n",
    "    work : float\n",
    "        Work done by the force_law F(r) from r_initial to r_final (Joules = N m = kg m^2/s^2)\n",
    "    \"\"\"\n",
    "    \n",
    "    return quad(force_law,r_initial,r_final)[0]\n",
    "\n"
   ]
  },
  {
   "cell_type": "markdown",
   "metadata": {},
   "source": [
    "Now suppose that we want to now calculate the work done by the gravitional force when the test mass $m$ is moved from a distance $r_{\\rm earth}$ at the surface of the Earth to the distance $r_{\\rm HST}$ at the location of the orbit of the Hubble Space Telescope."
   ]
  },
  {
   "cell_type": "code",
   "execution_count": null,
   "metadata": {},
   "outputs": [],
   "source": [
    "work_gravity = compute_work(F_grav_with_np,r_earth,r_HST)\n",
    "print(\"Work done by gravity: {:.2f} J\".format(work_gravity))\n"
   ]
  },
  {
   "cell_type": "markdown",
   "metadata": {},
   "source": [
    "In the above example, the `compute_work` function takes as its first argument the *function* `force_law`, which computes the the force law $F(r)$.  The second and third arguments are the initial and final distances, respectively.  The `compute_work` function then uses the `scipy.integrate.quad` function to compute the integral.  Note the `quad` function is not defined in the current module namespace, but rather it is defined in the `scipy.integrate` namespace.  This is why we need to import it from the `scipy.integrate` module into our namespace before we can use it. It is then a \"global\" variable in our current module namespace. The first argument to `quad` which performs the integral is also a function, and we passed the function `F_grav_with_np` into `compute_work`, and this function variable is then passed into `quad` to compute the integral of the gravitational force. \n",
    "\n",
    "Thus the `quad` function is another example of a function that takes another function as an argument.  The function passed to `quad` named `force_law` must have as its first argument $r$, which is the variable of integration.  The `quad` function returns the value of the integral. Actually, the `quad` function returns a *tuple*, which is a collection of variables.  This tuple actally has two elements, the first element of the tuple is the value of the integral (which we returned above, hence the indexing `quad(force_law,r_initial,r_final)[0]`) and the second element is an estimate of the error on the integral.  We will learn more about tuples shortly, but the full output of the `quad` function is shown below:  "
   ]
  },
  {
   "cell_type": "code",
   "execution_count": null,
   "metadata": {},
   "outputs": [],
   "source": [
    "answer, error = quad(F_grav_with_np,r_earth,r_HST)\n",
    "print(\"Work done by gravity: {:.2f} J\".format(answer))\n",
    "print(\"Error: {:.2e} J\".format(error))"
   ]
  },
  {
   "cell_type": "markdown",
   "metadata": {},
   "source": [
    "You can verify the input arguments and return values of the `quad` function by typing `help(quad)` in a code cell.  This will bring up the documentation for the `quad` function as is done below. "
   ]
  },
  {
   "cell_type": "code",
   "execution_count": null,
   "metadata": {},
   "outputs": [],
   "source": [
    "help(quad)"
   ]
  },
  {
   "cell_type": "code",
   "execution_count": null,
   "metadata": {},
   "outputs": [],
   "source": []
  }
 ],
 "metadata": {
  "kernelspec": {
   "display_name": "Phys29",
   "language": "python",
   "name": "python3"
  },
  "language_info": {
   "codemirror_mode": {
    "name": "ipython",
    "version": 3
   },
   "file_extension": ".py",
   "mimetype": "text/x-python",
   "name": "python",
   "nbconvert_exporter": "python",
   "pygments_lexer": "ipython3",
   "version": "3.11.5"
  }
 },
 "nbformat": 4,
 "nbformat_minor": 4
}
